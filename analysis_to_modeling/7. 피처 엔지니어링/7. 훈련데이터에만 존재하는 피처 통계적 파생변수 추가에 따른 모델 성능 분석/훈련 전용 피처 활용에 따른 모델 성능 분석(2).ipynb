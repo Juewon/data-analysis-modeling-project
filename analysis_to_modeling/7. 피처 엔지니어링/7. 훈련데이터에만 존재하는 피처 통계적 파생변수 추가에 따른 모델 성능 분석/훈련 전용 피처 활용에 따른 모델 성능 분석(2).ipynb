version https://git-lfs.github.com/spec/v1
oid sha256:b5942661a22f25ec5b79ed666c4e84c5456f14674c699096eddf4a4b2d6db3ae
size 27335981
