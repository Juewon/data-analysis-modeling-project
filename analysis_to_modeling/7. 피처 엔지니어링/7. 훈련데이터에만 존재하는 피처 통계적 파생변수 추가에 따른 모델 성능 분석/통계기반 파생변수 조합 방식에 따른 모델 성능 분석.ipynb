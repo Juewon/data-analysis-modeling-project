version https://git-lfs.github.com/spec/v1
oid sha256:313b777cec5714624e6992d1db0dc5592a5e7a494e81fe3bb177b24bda31d1e8
size 13850268
