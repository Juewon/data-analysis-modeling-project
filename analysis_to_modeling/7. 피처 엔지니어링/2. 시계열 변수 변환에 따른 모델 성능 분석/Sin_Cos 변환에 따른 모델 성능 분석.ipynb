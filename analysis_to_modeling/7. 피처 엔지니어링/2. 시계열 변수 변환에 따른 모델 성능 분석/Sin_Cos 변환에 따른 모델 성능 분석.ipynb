version https://git-lfs.github.com/spec/v1
oid sha256:a33def12cc793feec3bfdb51e2de8cd0ca6c5edd1dca2d0e0eb7ac9b0d2421a6
size 20869675
