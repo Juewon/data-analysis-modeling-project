version https://git-lfs.github.com/spec/v1
oid sha256:fb4c48c9f826ec18ee90afd4213fec31a1e7c6d8a2d07d95028502595818908e
size 8240433
