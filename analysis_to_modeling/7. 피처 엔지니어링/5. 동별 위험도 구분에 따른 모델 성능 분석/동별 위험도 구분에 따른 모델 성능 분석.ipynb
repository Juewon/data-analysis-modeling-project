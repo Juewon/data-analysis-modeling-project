version https://git-lfs.github.com/spec/v1
oid sha256:f1cd8e253718f85013c8fb23d0e627ed50ae73bfeb4af1c4014555608942e7c6
size 3925797
