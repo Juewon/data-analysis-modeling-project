version https://git-lfs.github.com/spec/v1
oid sha256:2c04dcdaa59e191d255d7a6d391ec67f04fde35a0857a03a18988d970192d49e
size 3465528
