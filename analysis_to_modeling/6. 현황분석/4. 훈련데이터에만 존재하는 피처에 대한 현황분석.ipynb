version https://git-lfs.github.com/spec/v1
oid sha256:1da56715e18a222cd6aa2433f5fe5c0cc372f5664442b2fb8942b0cce2cc0ed0
size 1429646
